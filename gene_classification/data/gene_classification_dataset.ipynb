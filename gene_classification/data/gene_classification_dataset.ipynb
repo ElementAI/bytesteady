{
 "cells": [
  {
   "cell_type": "markdown",
   "source": [
    "# Gene classification\n",
    "\n",
    "Goal: Categorize genes according to their function (e.g., antibiotic resistance, virulence factor, etc.)"
   ],
   "metadata": {}
  },
  {
   "cell_type": "code",
   "execution_count": 1,
   "source": [
    "import numpy as np\n",
    "import os\n",
    "import pandas as pd\n",
    "\n",
    "from data_utils import fasta_to_contigs, reverse_complement\n",
    "\n",
    "\n",
    "GENOMES_PATH = \"/mnt/datasets/public/research/antibiotic_resistance/genomes/\"\n",
    "CONTIGS_PATH = os.path.join(GENOMES_PATH, \"contigs\")\n",
    "CONTIGS_AMR_ONLY_PATH = os.path.join(GENOMES_PATH, \"contigs_amr_only\")\n",
    "ANNOTATIONS_PATH = os.path.join(GENOMES_PATH, \"annotations\")\n",
    "SPECIALTY_GENES_PATH = os.path.join(GENOMES_PATH, \"specialty_genes\")\n",
    "CONTIGS_EXT = \".fna.gz\"\n",
    "CONTIGS_AMR_ONLY_EXT = \".fna\"\n",
    "ANNOTATIONS_EXT = \".PATRIC.features.tab\"\n",
    "SPECIALTY_GENES_EXT = \".PATRIC.spgene.tab\"\n",
    "BYTESTEADY_DATASET_PATH = \"/mnt/datasets/public/research/antibiotic_resistance/gene_classification\""
   ],
   "outputs": [],
   "metadata": {}
  },
  {
   "cell_type": "code",
   "execution_count": 2,
   "source": [
    "metadata = pd.read_csv(\"/mnt/datasets/public/research/antibiotic_resistance/amr_genes_only/metadata.tsv\", sep=\"\\t\", converters={\"genome_id\": str})\n",
    "genomes = np.unique(metadata.genome_id)"
   ],
   "outputs": [],
   "metadata": {}
  },
  {
   "cell_type": "code",
   "execution_count": 3,
   "source": [
    "def extract_specialty_genes(genome):\n",
    "    annotations = pd.read_csv(os.path.join(ANNOTATIONS_PATH, genome + ANNOTATIONS_EXT), sep=\"\\t\")\n",
    "    annotations = annotations.loc[~pd.isna(annotations.patric_id)]\n",
    "    specialty_genes = pd.read_csv(os.path.join(SPECIALTY_GENES_PATH, genome + SPECIALTY_GENES_EXT), sep=\"\\t\")\n",
    "\n",
    "    specialty_genes = specialty_genes.drop_duplicates(\"patric_id\", keep=\"first\")\n",
    "    specialty_genes = specialty_genes[[\"patric_id\", \"source\", \"property\"]].reset_index()\n",
    "\n",
    "    # Merge all info\n",
    "    specialty_genes = pd.merge(specialty_genes, annotations, how=\"left\", on=\"patric_id\", validate=\"one_to_one\")\n",
    "    return specialty_genes[[\"accession\", \"product\", \"property\", \"start\", \"end\", \"strand\"]].dropna()\n",
    "\n",
    "\n",
    "def extract_gene_sequence(gene_info, contigs):\n",
    "    gene = contigs[gene_info.accession.lower()][gene_info.start: gene_info.end]\n",
    "    if gene_info.strand == \"-\":\n",
    "        gene = reverse_complement(gene)\n",
    "    return gene\n",
    "\n",
    "flatten = lambda l: [item for sublist in l for item in sublist]"
   ],
   "outputs": [],
   "metadata": {}
  },
  {
   "cell_type": "code",
   "execution_count": 4,
   "source": [
    "import matplotlib.pyplot as plt\n",
    "import seaborn as sns\n",
    "\n",
    "from joblib.parallel import delayed, Parallel\n",
    "from tqdm import tqdm\n",
    "\n",
    "\n",
    "def get_specialty_genes(genome, i, n):\n",
    "    try:        \n",
    "        contigs, headers = fasta_to_contigs(os.path.join(CONTIGS_PATH, genome + CONTIGS_EXT), return_headers=True)\n",
    "        accessions = [h.split()[0] for h in headers]\n",
    "        contigs = {a: c for a, c in zip(accessions, contigs)}\n",
    "        if len(contigs) == 0:\n",
    "            print(Exception(\"Contig file is empty\"))\n",
    "        \n",
    "        genes = extract_specialty_genes(genome)\n",
    "        sequences = [extract_gene_sequence(gene, contigs) for _, gene in genes.iterrows()]\n",
    "    \n",
    "    except Exception as e:\n",
    "#         print(e)\n",
    "        return None\n",
    "    \n",
    "    return [{\"accession\": g[\"accession\"],\n",
    "             \"sequence\": s,\n",
    "             \"product\": g[\"product\"],\n",
    "             \"property\": g[\"property\"]} for s, (_, g) in zip(sequences, genes.iterrows())]\n",
    "\n",
    "\n",
    "out = Parallel(40)(delayed(get_specialty_genes)(gid, i, metadata.shape[0]) for i, gid in enumerate(tqdm(metadata.genome_id.values, position=0, leave=True)))\n",
    "out = [o for o in out if o is not None]\n",
    "out = flatten(out)\n",
    "dataset = pd.DataFrame(out)\n",
    "del out\n",
    "assert len(np.unique(dataset.accession) == dataset.shape[0])\n",
    "\n",
    "print(dataset.property.value_counts())\n",
    "print(\"Total:\", dataset.shape[0])"
   ],
   "outputs": [
    {
     "output_type": "stream",
     "name": "stderr",
     "text": [
      "100%|██████████| 190841/190841 [1:05:05<00:00, 48.87it/s] \n"
     ]
    },
    {
     "output_type": "stream",
     "name": "stdout",
     "text": [
      "Transporter              31636158\n",
      "Virulence Factor         23180111\n",
      "Drug Target              17947879\n",
      "Antibiotic Resistance    10454445\n",
      "Human Homolog             2674470\n",
      "Essential Gene            1098821\n",
      "Name: property, dtype: int64\n",
      "Total: 86991884\n"
     ]
    }
   ],
   "metadata": {}
  },
  {
   "cell_type": "code",
   "execution_count": 5,
   "source": [
    "# Gene length stats\n",
    "dataset[\"length\"] = dataset.sequence.apply(lambda x: len(x))\n",
    "\n",
    "min_length = 100\n",
    "max_length = 10000\n",
    "print(\"Filtering genes based on length (min: %d  max: %d). Current size: %d.\" % (min_length, max_length, dataset.shape[0]))\n",
    "dataset = dataset.loc[(dataset.length >= min_length) & (dataset.length <= max_length)].reset_index()\n",
    "print(\"Size after filtering:\", dataset.shape[0])\n",
    "\n",
    "sns.distplot(dataset.length)\n",
    "plt.show()\n",
    "\n",
    "dataset.length.describe()"
   ],
   "outputs": [
    {
     "output_type": "stream",
     "name": "stdout",
     "text": [
      "Filtering genes based on length (min: 100  max: 10000). Current size: 86991884.\n",
      "Size after filtering: 86774939\n"
     ]
    },
    {
     "output_type": "display_data",
     "data": {
      "text/plain": [
       "<Figure size 432x288 with 1 Axes>"
      ],
      "image/png": "[encoded data removed]"
     },
     "metadata": {
      "needs_background": "light"
     }
    },
    {
     "output_type": "execute_result",
     "data": {
      "text/plain": [
       "count    8.677494e+07\n",
       "mean     1.122688e+03\n",
       "std      7.249445e+02\n",
       "min      1.000000e+02\n",
       "25%      6.620000e+02\n",
       "50%      9.800000e+02\n",
       "75%      1.376000e+03\n",
       "max      9.995000e+03\n",
       "Name: length, dtype: float64"
      ]
     },
     "metadata": {},
     "execution_count": 5
    }
   ],
   "metadata": {}
  },
  {
   "cell_type": "code",
   "execution_count": 6,
   "source": [
    "# Remove duplicate sequences\n",
    "print(\"Removing duplicate sequences\\n----------------------------------\")\n",
    "print(\"Number of examples before:\", dataset.shape[0])\n",
    "dataset[\"suid\"] = dataset.sequence.apply(hash)\n",
    "dataset.drop_duplicates(\"suid\", inplace=True)\n",
    "print(\"Number of examples after:\", dataset.shape[0])"
   ],
   "outputs": [
    {
     "output_type": "stream",
     "name": "stdout",
     "text": [
      "Removing duplicate sequences\n",
      "----------------------------------\n",
      "Number of examples before: 86774939\n",
      "Number of examples after: 11704753\n"
     ]
    }
   ],
   "metadata": {}
  },
  {
   "cell_type": "code",
   "execution_count": 7,
   "source": [
    "# Balance classes (downsample to smallest class abundance)\n",
    "class_counts = dataset.property.value_counts()\n",
    "argmin = np.argmin(class_counts.values)\n",
    "n_keep = class_counts[argmin]\n",
    "print(\"The least abundant class is\", class_counts.index[argmin], \"(\", class_counts[argmin], \")\")\n",
    "\n",
    "# For each class, keep only n_keep examples randomly\n",
    "random = np.random.RandomState(42)\n",
    "class_idx = {c: np.where(dataset.property.values == c)[0] for c in class_counts.index.values}\n",
    "class_idx = {c: random.choice(idx, size=n_keep, replace=False) for c, idx in class_idx.items()}\n",
    "\n",
    "dataset = dataset.iloc[flatten(class_idx.values())].reset_index()\n",
    "print(dataset.property.value_counts())\n",
    "print(\"Dataset size after balancing:\", dataset.shape[0])"
   ],
   "outputs": [
    {
     "output_type": "stream",
     "name": "stdout",
     "text": [
      "The least abundant class is Human Homolog ( 851936 )\n",
      "Antibiotic Resistance    851936\n",
      "Transporter              851936\n",
      "Human Homolog            851936\n",
      "Essential Gene           851936\n",
      "Virulence Factor         851936\n",
      "Drug Target              851936\n",
      "Name: property, dtype: int64\n",
      "Dataset size after balancing: 5111616\n"
     ]
    }
   ],
   "metadata": {}
  },
  {
   "cell_type": "code",
   "execution_count": 8,
   "source": [
    "# Hexadecimal encoding of sequences for bytesteady\n",
    "from data_utils import *\n",
    "from binascii import hexlify\n",
    "\n",
    "\n",
    "def hexify_sequence(seq):\n",
    "    seq = contig_flag_non_standard(seq)\n",
    "    seq = hexlify(seq.encode(\"ascii\"))\n",
    "    return seq.decode(\"utf-8\").upper()\n",
    "\n",
    "dataset[\"hex_sequence\"] = dataset[\"sequence\"].apply(hexify_sequence)"
   ],
   "outputs": [],
   "metadata": {}
  },
  {
   "cell_type": "code",
   "execution_count": 9,
   "source": [
    "np.random.seed(42)\n",
    "idx = np.arange(dataset.shape[0])\n",
    "np.random.shuffle(idx)\n",
    "\n",
    "train_size = int(0.8 * len(idx))\n",
    "valid_size = int(0.1 * len(idx))\n",
    "test_size = len(idx) - train_size - valid_size\n",
    "\n",
    "train_idx = idx[: train_size]\n",
    "valid_idx = idx[train_size : train_size + valid_size]\n",
    "test_idx = idx[train_size + valid_size :]\n",
    "\n",
    "label_ids = {l: i for i, l in enumerate(np.unique(dataset.property))}  # TODO: save these for later reference\n",
    "\n",
    "\n",
    "def write_set(name, idx):\n",
    "    # Bytesteady dataset\n",
    "    f = open(os.path.join(BYTESTEADY_DATASET_PATH, \"%s.bytesteady\" % name.lower()), \"w\")\n",
    "    for i in idx:\n",
    "        row = dataset.iloc[i]\n",
    "        f.write(\"%s\\t%s\\n\" % (row.hex_sequence, label_ids[row.property]))\n",
    "    f.close()\n",
    "    \n",
    "    # Kover dataset\n",
    "    f = open(os.path.join(BYTESTEADY_DATASET_PATH, \"%s.cleartext\" % name), \"w\")\n",
    "    f.write(\"accession\\tsequence\\tlabel\\n\")\n",
    "    for i in idx:\n",
    "        row = dataset.iloc[i]\n",
    "        f.write(\"%s\\t%s\\t%d\\n\" % (row.accession, row.sequence, label_ids[row.property]))\n",
    "    f.close()\n",
    "    \n",
    "write_set(\"train\", train_idx)\n",
    "write_set(\"valid\", valid_idx)\n",
    "write_set(\"test\", test_idx)\n",
    "write_set(\"train_valid\", np.hstack((train_idx, valid_idx)))\n",
    "\n",
    "open(os.path.join(BYTESTEADY_DATASET_PATH, \"label_ids.tsv\"), \"w\").write(\"label\\tid\\n\" + \"\\n\".join(\"%s\\t%d\" % (l, i) for l, i in label_ids.items()))"
   ],
   "outputs": [
    {
     "output_type": "execute_result",
     "data": {
      "text/plain": [
       "112"
      ]
     },
     "metadata": {},
     "execution_count": 9
    }
   ],
   "metadata": {}
  },
  {
   "cell_type": "code",
   "execution_count": 17,
   "source": [
    "test_idx.shape"
   ],
   "outputs": [
    {
     "output_type": "execute_result",
     "data": {
      "text/plain": [
       "(511163,)"
      ]
     },
     "metadata": {},
     "execution_count": 17
    }
   ],
   "metadata": {}
  },
  {
   "cell_type": "markdown",
   "source": [
    "98K for testing\n",
    "90% train 10% test with the rest\n",
    "Produce a file that is train+valid"
   ],
   "metadata": {}
  }
 ],
 "metadata": {
  "kernelspec": {
   "display_name": "Python 3",
   "language": "python",
   "name": "python3"
  },
  "language_info": {
   "codemirror_mode": {
    "name": "ipython",
    "version": 3
   },
   "file_extension": ".py",
   "mimetype": "text/x-python",
   "name": "python",
   "nbconvert_exporter": "python",
   "pygments_lexer": "ipython3",
   "version": "3.7.3"
  }
 },
 "nbformat": 4,
 "nbformat_minor": 2
}